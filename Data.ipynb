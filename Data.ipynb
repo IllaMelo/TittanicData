{
 "cells": [
  {
   "cell_type": "code",
   "execution_count": 59,
   "id": "19ced327",
   "metadata": {},
   "outputs": [],
   "source": [
    "import pandas as pd\n",
    "import numpy as np\n",
    "from sklearn import tree \n",
    "import graphviz\n",
    "from sklearn import metrics\n",
    "from sklearn.model_selection import train_test_split"
   ]
  },
  {
   "cell_type": "code",
   "execution_count": 60,
   "id": "52859657",
   "metadata": {},
   "outputs": [],
   "source": [
    "def carregaData():\n",
    "\n",
    "        data = pd.read_excel('/home/illamelo/Área de Trabalho/Data Mining/Trabalho final/titanic3.xls')\n",
    "        return data\n"
   ]
  },
  {
   "cell_type": "code",
   "execution_count": 61,
   "id": "eb541db3",
   "metadata": {},
   "outputs": [],
   "source": [
    "def trataDados(data):\n",
    "\n",
    "    bodyMediana = data.body.mean()\n",
    "    data.fillna(bodyMediana, inplace = True)\n",
    "    ageMediana = data.age.mean()\n",
    "    data.fillna(ageMediana, inplace=True)\n",
    "    data['sex'] = data['sex'].map({'female': 0, 'male': 1}).astype(int)\n",
    "    return data\n"
   ]
  },
  {
   "cell_type": "code",
   "execution_count": 78,
   "id": "63bbdd21",
   "metadata": {},
   "outputs": [],
   "source": [
    "\n",
    "def dividirBase(mdata):\n",
    "    Y = mdata['sex']\n",
    "    X = mdata[['survived','pclass']]\n",
    "  \n",
    "    X_train, X_test, y_train, y_test = train_test_split(X,Y, test_size=0.3, random_state = 0)\n",
    "    \n",
    "    return X, Y, X_train, X_test, y_train, y_test\n"
   ]
  },
  {
   "cell_type": "code",
   "execution_count": 79,
   "id": "5ddb298c",
   "metadata": {},
   "outputs": [],
   "source": [
    "def treinarModelo(X_train, y_train):\n",
    "    clf = tree.DecisionTreeClassifier(criterion = \"gini\", max_depth = None)\n",
    "    clf.fit(X_train, y_train)\n",
    "    \n",
    "    return clf"
   ]
  },
  {
   "cell_type": "code",
   "execution_count": 80,
   "id": "76b885c3",
   "metadata": {},
   "outputs": [],
   "source": [
    "def dataPredicao(X_test, clf):\n",
    "    print(\"Valores previstos: \", clf.predict(X_test))\n",
    "    return clf.predict(X_test)"
   ]
  },
  {
   "cell_type": "code",
   "execution_count": 81,
   "id": "6bf4ee0d",
   "metadata": {},
   "outputs": [],
   "source": [
    "def Acuracia(y_test, pred):\n",
    "    print(metrics.confusion_matrix(y_test, pred))\n",
    "    print(metrics.accuracy_score(y_test, pred))"
   ]
  },
  {
   "cell_type": "code",
   "execution_count": 82,
   "id": "dceec1f7",
   "metadata": {},
   "outputs": [],
   "source": [
    "def ArvoreViz(clf, X, Y):\n",
    "    dot_data = tree.export_graphviz(clf, out_file=None, \n",
    "                                    feature_names=['survived','pclass'],\n",
    "                                    class_names=['female','male'],\n",
    "                                    filled=True)\n",
    "\n",
    "\n",
    "    graph = graphviz.Source(dot_data, format=\"png\") \n",
    "    graph\n",
    "    graph.render(\"decision_tree_graphivz\")\n",
    "\n"
   ]
  },
  {
   "cell_type": "code",
   "execution_count": 83,
   "id": "d59ff473",
   "metadata": {},
   "outputs": [
    {
     "data": {
      "text/html": [
       "<div>\n",
       "<style scoped>\n",
       "    .dataframe tbody tr th:only-of-type {\n",
       "        vertical-align: middle;\n",
       "    }\n",
       "\n",
       "    .dataframe tbody tr th {\n",
       "        vertical-align: top;\n",
       "    }\n",
       "\n",
       "    .dataframe thead th {\n",
       "        text-align: right;\n",
       "    }\n",
       "</style>\n",
       "<table border=\"1\" class=\"dataframe\">\n",
       "  <thead>\n",
       "    <tr style=\"text-align: right;\">\n",
       "      <th></th>\n",
       "      <th>pclass</th>\n",
       "      <th>survived</th>\n",
       "      <th>name</th>\n",
       "      <th>sex</th>\n",
       "      <th>age</th>\n",
       "      <th>sibsp</th>\n",
       "      <th>parch</th>\n",
       "      <th>ticket</th>\n",
       "      <th>fare</th>\n",
       "      <th>cabin</th>\n",
       "      <th>embarked</th>\n",
       "      <th>boat</th>\n",
       "      <th>body</th>\n",
       "      <th>home.dest</th>\n",
       "    </tr>\n",
       "  </thead>\n",
       "  <tbody>\n",
       "    <tr>\n",
       "      <th>0</th>\n",
       "      <td>1</td>\n",
       "      <td>1</td>\n",
       "      <td>Allen, Miss. Elisabeth Walton</td>\n",
       "      <td>0</td>\n",
       "      <td>29.0000</td>\n",
       "      <td>0</td>\n",
       "      <td>0</td>\n",
       "      <td>24160</td>\n",
       "      <td>211.3375</td>\n",
       "      <td>B5</td>\n",
       "      <td>S</td>\n",
       "      <td>2</td>\n",
       "      <td>160.809917</td>\n",
       "      <td>St Louis, MO</td>\n",
       "    </tr>\n",
       "    <tr>\n",
       "      <th>1</th>\n",
       "      <td>1</td>\n",
       "      <td>1</td>\n",
       "      <td>Allison, Master. Hudson Trevor</td>\n",
       "      <td>1</td>\n",
       "      <td>0.9167</td>\n",
       "      <td>1</td>\n",
       "      <td>2</td>\n",
       "      <td>113781</td>\n",
       "      <td>151.5500</td>\n",
       "      <td>C22 C26</td>\n",
       "      <td>S</td>\n",
       "      <td>11</td>\n",
       "      <td>160.809917</td>\n",
       "      <td>Montreal, PQ / Chesterville, ON</td>\n",
       "    </tr>\n",
       "    <tr>\n",
       "      <th>2</th>\n",
       "      <td>1</td>\n",
       "      <td>0</td>\n",
       "      <td>Allison, Miss. Helen Loraine</td>\n",
       "      <td>0</td>\n",
       "      <td>2.0000</td>\n",
       "      <td>1</td>\n",
       "      <td>2</td>\n",
       "      <td>113781</td>\n",
       "      <td>151.5500</td>\n",
       "      <td>C22 C26</td>\n",
       "      <td>S</td>\n",
       "      <td>160.809917</td>\n",
       "      <td>160.809917</td>\n",
       "      <td>Montreal, PQ / Chesterville, ON</td>\n",
       "    </tr>\n",
       "    <tr>\n",
       "      <th>3</th>\n",
       "      <td>1</td>\n",
       "      <td>0</td>\n",
       "      <td>Allison, Mr. Hudson Joshua Creighton</td>\n",
       "      <td>1</td>\n",
       "      <td>30.0000</td>\n",
       "      <td>1</td>\n",
       "      <td>2</td>\n",
       "      <td>113781</td>\n",
       "      <td>151.5500</td>\n",
       "      <td>C22 C26</td>\n",
       "      <td>S</td>\n",
       "      <td>160.809917</td>\n",
       "      <td>135.000000</td>\n",
       "      <td>Montreal, PQ / Chesterville, ON</td>\n",
       "    </tr>\n",
       "    <tr>\n",
       "      <th>4</th>\n",
       "      <td>1</td>\n",
       "      <td>0</td>\n",
       "      <td>Allison, Mrs. Hudson J C (Bessie Waldo Daniels)</td>\n",
       "      <td>0</td>\n",
       "      <td>25.0000</td>\n",
       "      <td>1</td>\n",
       "      <td>2</td>\n",
       "      <td>113781</td>\n",
       "      <td>151.5500</td>\n",
       "      <td>C22 C26</td>\n",
       "      <td>S</td>\n",
       "      <td>160.809917</td>\n",
       "      <td>160.809917</td>\n",
       "      <td>Montreal, PQ / Chesterville, ON</td>\n",
       "    </tr>\n",
       "  </tbody>\n",
       "</table>\n",
       "</div>"
      ],
      "text/plain": [
       "   pclass  survived                                             name  sex  \\\n",
       "0       1         1                    Allen, Miss. Elisabeth Walton    0   \n",
       "1       1         1                   Allison, Master. Hudson Trevor    1   \n",
       "2       1         0                     Allison, Miss. Helen Loraine    0   \n",
       "3       1         0             Allison, Mr. Hudson Joshua Creighton    1   \n",
       "4       1         0  Allison, Mrs. Hudson J C (Bessie Waldo Daniels)    0   \n",
       "\n",
       "       age  sibsp  parch  ticket      fare    cabin embarked        boat  \\\n",
       "0  29.0000      0      0   24160  211.3375       B5        S           2   \n",
       "1   0.9167      1      2  113781  151.5500  C22 C26        S          11   \n",
       "2   2.0000      1      2  113781  151.5500  C22 C26        S  160.809917   \n",
       "3  30.0000      1      2  113781  151.5500  C22 C26        S  160.809917   \n",
       "4  25.0000      1      2  113781  151.5500  C22 C26        S  160.809917   \n",
       "\n",
       "         body                        home.dest  \n",
       "0  160.809917                     St Louis, MO  \n",
       "1  160.809917  Montreal, PQ / Chesterville, ON  \n",
       "2  160.809917  Montreal, PQ / Chesterville, ON  \n",
       "3  135.000000  Montreal, PQ / Chesterville, ON  \n",
       "4  160.809917  Montreal, PQ / Chesterville, ON  "
      ]
     },
     "execution_count": 83,
     "metadata": {},
     "output_type": "execute_result"
    }
   ],
   "source": [
    "trataDados(carregaData()).head()"
   ]
  },
  {
   "cell_type": "code",
   "execution_count": 84,
   "id": "9414f190",
   "metadata": {},
   "outputs": [],
   "source": [
    "def main():\n",
    "    data = carregaData()\n",
    "    mdata = trataDados(data)\n",
    "    X, Y, X_train, X_test, y_train, y_test = dividirBase(mdata)\n",
    "    clf = treinarModelo(X_train, y_train)\n",
    "    pred = dataPredicao(X_test, clf)\n",
    "    Acuracia(y_test, pred)\n",
    "    ArvoreViz(clf, X, Y)"
   ]
  },
  {
   "cell_type": "code",
   "execution_count": 85,
   "id": "4bedef6e",
   "metadata": {},
   "outputs": [
    {
     "name": "stdout",
     "output_type": "stream",
     "text": [
      "Valores previstos:  [1 0 1 1 1 0 0 0 1 0 1 1 0 0 0 1 0 0 0 1 1 1 1 0 1 0 0 1 1 1 0 0 0 1 0 1 1\n",
      " 1 1 1 1 1 1 0 1 1 1 0 0 1 0 0 1 1 1 1 0 1 0 0 1 1 1 0 1 1 1 1 1 1 0 1 0 1\n",
      " 1 0 1 0 1 0 1 0 1 0 0 0 1 1 1 0 1 1 1 1 1 1 0 0 1 0 1 1 0 1 0 1 0 1 1 1 1\n",
      " 0 1 1 1 1 1 1 1 0 1 1 1 0 1 1 1 0 0 1 1 1 1 0 0 1 1 1 1 1 1 0 1 1 1 0 0 1\n",
      " 0 1 1 1 0 0 0 1 0 0 1 1 1 1 1 0 1 0 1 1 1 1 1 1 0 1 0 1 1 0 0 0 0 1 1 1 1\n",
      " 1 0 0 1 1 1 1 0 1 0 0 1 0 1 1 1 1 1 0 1 1 1 0 1 1 0 0 1 1 0 1 1 1 1 0 0 0\n",
      " 0 0 0 1 0 0 0 0 0 1 1 1 1 1 0 1 1 0 1 0 1 0 0 0 1 0 0 1 1 1 0 1 0 1 0 1 1\n",
      " 1 1 1 1 0 1 1 1 1 1 1 1 0 1 1 1 0 0 0 1 1 1 1 1 1 1 1 1 1 0 0 0 1 0 1 0 1\n",
      " 0 1 1 1 1 1 1 1 0 1 0 1 1 1 0 1 1 0 1 1 1 0 1 0 0 1 1 1 0 1 0 1 1 1 0 1 1\n",
      " 0 1 0 1 0 0 1 0 1 0 0 0 1 1 0 1 1 0 0 1 0 1 1 0 0 1 1 1 1 1 1 0 0 0 0 1 1\n",
      " 0 1 0 1 1 0 1 1 1 1 1 1 1 1 1 0 0 1 1 0 0 1 0]\n",
      "[[ 95  36]\n",
      " [ 52 210]]\n",
      "0.7760814249363868\n"
     ]
    }
   ],
   "source": [
    "main()\n"
   ]
  },
  {
   "cell_type": "code",
   "execution_count": null,
   "id": "308e4bd6",
   "metadata": {},
   "outputs": [],
   "source": []
  },
  {
   "cell_type": "code",
   "execution_count": null,
   "id": "b061fc2a",
   "metadata": {},
   "outputs": [],
   "source": []
  }
 ],
 "metadata": {
  "kernelspec": {
   "display_name": "Python 3 (ipykernel)",
   "language": "python",
   "name": "python3"
  },
  "language_info": {
   "codemirror_mode": {
    "name": "ipython",
    "version": 3
   },
   "file_extension": ".py",
   "mimetype": "text/x-python",
   "name": "python",
   "nbconvert_exporter": "python",
   "pygments_lexer": "ipython3",
   "version": "3.10.6"
  }
 },
 "nbformat": 4,
 "nbformat_minor": 5
}
